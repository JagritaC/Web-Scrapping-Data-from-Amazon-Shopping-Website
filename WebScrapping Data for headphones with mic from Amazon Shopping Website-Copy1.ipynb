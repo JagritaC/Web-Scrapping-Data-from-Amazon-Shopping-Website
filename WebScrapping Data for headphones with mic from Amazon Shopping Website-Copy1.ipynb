{
 "cells": [
  {
   "cell_type": "markdown",
   "id": "2417708d",
   "metadata": {},
   "source": [
    "WEB SCRAPPING DATA"
   ]
  },
  {
   "cell_type": "markdown",
   "id": "1025da0b",
   "metadata": {},
   "source": [
    "Step1: Opening URL using urlopen in urllib\n",
    "\n",
    "Step2: Parsing html using prettify in beautifulsoup\n",
    "\n",
    "Step3: Finding details of data"
   ]
  },
  {
   "cell_type": "markdown",
   "id": "ac01decd",
   "metadata": {},
   "source": [
    "Single Case"
   ]
  },
  {
   "cell_type": "code",
   "execution_count": 1,
   "id": "44dd8e61",
   "metadata": {},
   "outputs": [],
   "source": [
    "from urllib.request import urlopen as ul\n",
    "url=\"https://www.amazon.in/Cyber-Acoustics-AC-5002-headset-SingleComboPlug/dp/B074JHQ8M3/ref=sr_1_1_sspa?crid=X83D7R82IK6N&keywords=headphones%2Bwith%2Bmic&qid=1699881529&sprefix=headphones%2Caps%2C224&sr=8-1-spons&sp_csd=d2lkZ2V0TmFtZT1zcF9hdGY&th=1\"\n",
    "Website=ul(url)"
   ]
  },
  {
   "cell_type": "code",
   "execution_count": 2,
   "id": "6368bbfd",
   "metadata": {},
   "outputs": [],
   "source": [
    "from bs4 import BeautifulSoup as bs\n",
    "soup=bs(Website)\n",
    "Ps=(soup.prettify)"
   ]
  },
  {
   "cell_type": "code",
   "execution_count": 3,
   "id": "0f1291e3",
   "metadata": {},
   "outputs": [],
   "source": [
    "title=soup.find('span',{'id':'productTitle'})\n",
    "price=soup.find('span',{'class':'a-price-whole'})\n",
    "rating=soup.find('span',{'data-hook':'rating-out-of-text'})\n",
    "title=title.find(text=True)\n",
    "price=price.find(text=True)\n",
    "rating=rating.find(text=True)"
   ]
  },
  {
   "cell_type": "markdown",
   "id": "56693de8",
   "metadata": {},
   "source": [
    "#Web Scrapping data on headphones with mic from Amazon shopping site#\n",
    "\n",
    "1. Opening URL using urlopen from urllib.request.\n",
    "2. Parsing html using BeautifulSoup library.\n",
    "3. href (hypertext reference) is used to access hyperlinks. Accessing hyerlinks to all the pages in Amazon shopping site for headphones plus mic.(For reference we used only two pages)\n",
    "4. Accessing product links from the pages.\n",
    "5. Deriving information regarding products.\n",
    "6. Converting them into dataframe for easy reference."
   ]
  },
  {
   "cell_type": "code",
   "execution_count": 6,
   "id": "20953d43",
   "metadata": {},
   "outputs": [],
   "source": [
    "from urllib.request import urlopen as ul\n",
    "from bs4 import BeautifulSoup as bs\n",
    "URL=\"https://www.amazon.in/s?k=headphones+with+mic&crid=37N1YRKH1IE8Y&sprefix=headphones+with+mic%2Caps%2C244&ref=nb_sb_noss_1\"\n",
    "U=ul(URL)\n",
    "s=bs(U)"
   ]
  },
  {
   "cell_type": "code",
   "execution_count": 7,
   "id": "201081a3",
   "metadata": {},
   "outputs": [],
   "source": [
    "urls=[]\n",
    "import re\n",
    "for tag in s.find_all(href=re.compile(\"^https://www.amazon.in\")):\n",
    "        urls.append(tag['href'])\n",
    "urls\n",
    "urls=urls[:2]"
   ]
  },
  {
   "cell_type": "code",
   "execution_count": 8,
   "id": "e8341ec0",
   "metadata": {},
   "outputs": [
    {
     "data": {
      "text/plain": [
       "['https://www.amazon.in/ZEBRONICS-Headphone-Neodymium-Suspension-Controller/dp/B0B5RL2G3S',\n",
       " 'https://www.amazon.in/Logitech-H110-Stereo-Headset-Black/dp/B003H4QPJQ',\n",
       " 'https://www.amazon.in/Sony-Extra-Bass-MDR-XB450AP-Headphones/dp/B00SISQAX2',\n",
       " 'https://www.amazon.in/Zebronics-Zeb-200HM-Headphone-Mic/dp/B08CHPGTSF',\n",
       " 'https://www.amazon.in/PHILIPS-TAE1126-Headphone-TAE1126BK-94/dp/B092HMD4Q7',\n",
       " 'https://www.amazon.in/Logitech-Computer-Headset-Enchanced-Controls/dp/B077DC9XQH',\n",
       " 'https://www.amazon.in/Rockerz-450-Wireless-Bluetooth-Headphone/dp/B07PR1CL3S',\n",
       " 'https://www.amazon.in/ZEBRONICS-Zeb-Bro-Earphones-Drivers-Compatible/dp/B09R24HMNW',\n",
       " 'https://www.amazon.in/JBL-C50HI-Ear-Headphones-Black/dp/B07JQKQ91F',\n",
       " 'https://www.amazon.in/ZEBRONICS-Zeb-Rush-Headphone-Neodymium-Blue/dp/B08TCCP2M6',\n",
       " 'https://www.amazon.in/Cosmic-Byte-Blazar-Headphone-Blue/dp/B08BJFBZQ8',\n",
       " 'https://www.amazon.in/JBL-C100SI-Ear-Headphones-Mic/dp/B01DF26V7A',\n",
       " 'https://www.amazon.in/HP-H150-Gaming-Headset-5YR85AA/dp/B08498BYVG',\n",
       " 'https://www.amazon.in/Tangentbeat-Bluetooth-Headphones-Waterproof-Cancelation/dp/B08D77XZX5',\n",
       " 'https://www.amazon.in/Zebronics-PRO-Headphone-Neodymium-Suspension/dp/B0B5RMKMJL',\n",
       " 'https://www.amazon.in/Mi-Earphone-Basic-Ultra-deep/dp/B07QJYB8BC']"
      ]
     },
     "execution_count": 8,
     "metadata": {},
     "output_type": "execute_result"
    }
   ],
   "source": [
    "for t in urls:\n",
    "    W=ul(t)\n",
    "    S=bs(W)\n",
    "    t=S.find_all('a',{\"class\":\"a-link-normal s-underline-text s-underline-link-text s-link-style a-text-normal\"})\n",
    "    links=[]\n",
    "    str1=\"https://www.amazon.in\"\n",
    "    for link in t:\n",
    "        lin=link.get(\"href\")\n",
    "        str2=str(lin)\n",
    "        l=str1+str2\n",
    "        links.append(l)\n",
    "links"
   ]
  },
  {
   "cell_type": "code",
   "execution_count": 9,
   "id": "31a4e0a0",
   "metadata": {},
   "outputs": [],
   "source": [
    "Titles=[]\n",
    "Prices=[]\n",
    "Ratings=[]\n",
    "for url in links:\n",
    "    Website=ul(url)\n",
    "    soup=bs(Website)\n",
    "    Ps=(soup.prettify)\n",
    "    title=soup.find('span',{'id':'productTitle'})\n",
    "    price=soup.find('span',{'class':'a-price-whole'})\n",
    "    rating=soup.find('span',{'data-hook':'rating-out-of-text'})\n",
    "    title=title.find(text=True)\n",
    "    price=price.find(text=True)\n",
    "    rating=rating.find(text=True)\n",
    "    Titles.append(title)\n",
    "    Prices.append(price)\n",
    "    Ratings.append(rating)"
   ]
  },
  {
   "cell_type": "code",
   "execution_count": 10,
   "id": "bf6049ff",
   "metadata": {},
   "outputs": [],
   "source": [
    "import pandas as pd\n",
    "df=pd.DataFrame(Titles,columns=[\"Titles\"])\n",
    "df[\"Prices\"]=Prices\n",
    "df[\"Ratings\"]=Ratings"
   ]
  },
  {
   "cell_type": "code",
   "execution_count": 11,
   "id": "136973ad",
   "metadata": {},
   "outputs": [
    {
     "data": {
      "text/html": [
       "<div>\n",
       "<style scoped>\n",
       "    .dataframe tbody tr th:only-of-type {\n",
       "        vertical-align: middle;\n",
       "    }\n",
       "\n",
       "    .dataframe tbody tr th {\n",
       "        vertical-align: top;\n",
       "    }\n",
       "\n",
       "    .dataframe thead th {\n",
       "        text-align: right;\n",
       "    }\n",
       "</style>\n",
       "<table border=\"1\" class=\"dataframe\">\n",
       "  <thead>\n",
       "    <tr style=\"text-align: right;\">\n",
       "      <th></th>\n",
       "      <th>Titles</th>\n",
       "      <th>Prices</th>\n",
       "      <th>Ratings</th>\n",
       "    </tr>\n",
       "  </thead>\n",
       "  <tbody>\n",
       "    <tr>\n",
       "      <th>0</th>\n",
       "      <td>ZEBRONICS Jet Premium Wired Gaming On ...</td>\n",
       "      <td>799</td>\n",
       "      <td>3.9 out of 5</td>\n",
       "    </tr>\n",
       "    <tr>\n",
       "      <th>1</th>\n",
       "      <td>Logitech H110 Wired On Ear Headphones ...</td>\n",
       "      <td>745</td>\n",
       "      <td>3.8 out of 5</td>\n",
       "    </tr>\n",
       "    <tr>\n",
       "      <th>2</th>\n",
       "      <td>Sony Extra Bass MDR-XB450AP On-Ear Wir...</td>\n",
       "      <td>1,784</td>\n",
       "      <td>4.2 out of 5</td>\n",
       "    </tr>\n",
       "    <tr>\n",
       "      <th>3</th>\n",
       "      <td>Zebronics Zeb-200HM Wired On Ear Headp...</td>\n",
       "      <td>439</td>\n",
       "      <td>3.2 out of 5</td>\n",
       "    </tr>\n",
       "    <tr>\n",
       "      <th>4</th>\n",
       "      <td>Philips Audio TAE1126 Wired in Ear Ear...</td>\n",
       "      <td>249</td>\n",
       "      <td>3.9 out of 5</td>\n",
       "    </tr>\n",
       "    <tr>\n",
       "      <th>5</th>\n",
       "      <td>Logitech H390 Wired On Ear Headset for...</td>\n",
       "      <td>4,195</td>\n",
       "      <td>4.3 out of 5</td>\n",
       "    </tr>\n",
       "    <tr>\n",
       "      <th>6</th>\n",
       "      <td>boAt Rockerz 450 Bluetooth On Ear Head...</td>\n",
       "      <td>1,699</td>\n",
       "      <td>4.1 out of 5</td>\n",
       "    </tr>\n",
       "    <tr>\n",
       "      <th>7</th>\n",
       "      <td>ZEBRONICS Zeb-Bro in Ear Wired Earphon...</td>\n",
       "      <td>149</td>\n",
       "      <td>3.5 out of 5</td>\n",
       "    </tr>\n",
       "    <tr>\n",
       "      <th>8</th>\n",
       "      <td>JBL C50HI, Wired in Ear Headphones wit...</td>\n",
       "      <td>449</td>\n",
       "      <td>3.9 out of 5</td>\n",
       "    </tr>\n",
       "    <tr>\n",
       "      <th>9</th>\n",
       "      <td>Zebronics Zeb-Rush (Blue) Premium Wire...</td>\n",
       "      <td>999</td>\n",
       "      <td>3.5 out of 5</td>\n",
       "    </tr>\n",
       "    <tr>\n",
       "      <th>10</th>\n",
       "      <td>Cosmic Byte Blazar Wired Over-Ear Head...</td>\n",
       "      <td>699</td>\n",
       "      <td>3.9 out of 5</td>\n",
       "    </tr>\n",
       "    <tr>\n",
       "      <th>11</th>\n",
       "      <td>JBL C100SI Wired In Ear Headphones wit...</td>\n",
       "      <td>599</td>\n",
       "      <td>4.1 out of 5</td>\n",
       "    </tr>\n",
       "    <tr>\n",
       "      <th>12</th>\n",
       "      <td>HP H150 Wired in Ear Gaming Earphones ...</td>\n",
       "      <td>538</td>\n",
       "      <td>3.6 out of 5</td>\n",
       "    </tr>\n",
       "    <tr>\n",
       "      <th>13</th>\n",
       "      <td>pTron Tangentbeat in-Ear Bluetooth 5.0...</td>\n",
       "      <td>599</td>\n",
       "      <td>3.8 out of 5</td>\n",
       "    </tr>\n",
       "    <tr>\n",
       "      <th>14</th>\n",
       "      <td>Zebronics Jet PRO Premium Wired Gaming...</td>\n",
       "      <td>899</td>\n",
       "      <td>3.9 out of 5</td>\n",
       "    </tr>\n",
       "    <tr>\n",
       "      <th>15</th>\n",
       "      <td>Xiaomi Wired in-Ear Earphones with Mic...</td>\n",
       "      <td>396</td>\n",
       "      <td>4.1 out of 5</td>\n",
       "    </tr>\n",
       "  </tbody>\n",
       "</table>\n",
       "</div>"
      ],
      "text/plain": [
       "                                               Titles Prices       Ratings\n",
       "0           ZEBRONICS Jet Premium Wired Gaming On ...    799  3.9 out of 5\n",
       "1           Logitech H110 Wired On Ear Headphones ...    745  3.8 out of 5\n",
       "2           Sony Extra Bass MDR-XB450AP On-Ear Wir...  1,784  4.2 out of 5\n",
       "3           Zebronics Zeb-200HM Wired On Ear Headp...    439  3.2 out of 5\n",
       "4           Philips Audio TAE1126 Wired in Ear Ear...    249  3.9 out of 5\n",
       "5           Logitech H390 Wired On Ear Headset for...  4,195  4.3 out of 5\n",
       "6           boAt Rockerz 450 Bluetooth On Ear Head...  1,699  4.1 out of 5\n",
       "7           ZEBRONICS Zeb-Bro in Ear Wired Earphon...    149  3.5 out of 5\n",
       "8           JBL C50HI, Wired in Ear Headphones wit...    449  3.9 out of 5\n",
       "9           Zebronics Zeb-Rush (Blue) Premium Wire...    999  3.5 out of 5\n",
       "10          Cosmic Byte Blazar Wired Over-Ear Head...    699  3.9 out of 5\n",
       "11          JBL C100SI Wired In Ear Headphones wit...    599  4.1 out of 5\n",
       "12          HP H150 Wired in Ear Gaming Earphones ...    538  3.6 out of 5\n",
       "13          pTron Tangentbeat in-Ear Bluetooth 5.0...    599  3.8 out of 5\n",
       "14          Zebronics Jet PRO Premium Wired Gaming...    899  3.9 out of 5\n",
       "15          Xiaomi Wired in-Ear Earphones with Mic...    396  4.1 out of 5"
      ]
     },
     "execution_count": 11,
     "metadata": {},
     "output_type": "execute_result"
    }
   ],
   "source": [
    "df"
   ]
  },
  {
   "cell_type": "code",
   "execution_count": null,
   "id": "1bf25117",
   "metadata": {},
   "outputs": [],
   "source": []
  }
 ],
 "metadata": {
  "kernelspec": {
   "display_name": "Python 3 (ipykernel)",
   "language": "python",
   "name": "python3"
  },
  "language_info": {
   "codemirror_mode": {
    "name": "ipython",
    "version": 3
   },
   "file_extension": ".py",
   "mimetype": "text/x-python",
   "name": "python",
   "nbconvert_exporter": "python",
   "pygments_lexer": "ipython3",
   "version": "3.9.7"
  }
 },
 "nbformat": 4,
 "nbformat_minor": 5
}
